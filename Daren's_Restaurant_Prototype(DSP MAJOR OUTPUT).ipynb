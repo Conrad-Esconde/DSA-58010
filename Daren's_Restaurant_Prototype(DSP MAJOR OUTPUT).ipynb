{
  "nbformat": 4,
  "nbformat_minor": 0,
  "metadata": {
    "colab": {
      "provenance": [],
      "authorship_tag": "ABX9TyPV1NYmsT2NitsLzkIXpfWu",
      "include_colab_link": true
    },
    "kernelspec": {
      "name": "python3",
      "display_name": "Python 3"
    },
    "language_info": {
      "name": "python"
    }
  },
  "cells": [
    {
      "cell_type": "markdown",
      "metadata": {
        "id": "view-in-github",
        "colab_type": "text"
      },
      "source": [
        "<a href=\"https://colab.research.google.com/github/Conrad-Esconde/DSA-58010/blob/main/Daren's_Restaurant_Prototype(DSP%20MAJOR%20OUTPUT).ipynb\" target=\"_parent\"><img src=\"https://colab.research.google.com/assets/colab-badge.svg\" alt=\"Open In Colab\"/></a>"
      ]
    },
    {
      "cell_type": "code",
      "source": [
        "\n",
        "# list to store the customer orders\n",
        "customerQueue = []\n",
        "\n",
        "# take customer order\n",
        "def take_order(customer_name, order):\n",
        "  # append customer order to the queue\n",
        "  customerQueue.append((customer_name, order))\n",
        "  print(f\"===================================================\\n\\n(QUEUE HAS BEEN UPDATED)\\nOrder added to queue: {customer_name} - {order}\\n\")\n",
        "\n",
        "# show the customer queue\n",
        "def show_queue():\n",
        "  # current queue\n",
        "  print(\"===================================================\\n(DISPLAY QUEUE)\\n\\nCurrently In Line: \\n\")\n",
        "  for i, (customer_name, order) in enumerate(customerQueue):\n",
        "    print(f\"{i + 1}. {customer_name} - {order}\")\n",
        "\n",
        "# pop customer from queue\n",
        "def pop_queue():\n",
        "  # cehck queue if empty\n",
        "  if len(customerQueue) == 0:\n",
        "    print(f\"===================================================\\n\\n(OOOPS)\\nQueue is currently empty!\\n\")\n",
        "    return\n",
        "  # Pop current customer from the queue \n",
        "  (customer_name, order) = customerQueue.pop(0)\n",
        "  print(f\"===================================================\\n\\n(ORDER READY)\\n\\nYour Order is ready: {customer_name} - {order}\\n\")\n",
        "\n",
        "# Prompt the user\n",
        "while True:\n",
        "  # Menu options\n",
        "  print(\"===================================================\\n (MENU) What would you like to do?\\n\")\n",
        "  print(\"1. Take an order\")\n",
        "  print(\"2. Show queue\")\n",
        "  print(\"3. Serve queue\")\n",
        "  print(\"4. Quit\")\n",
        "\n",
        "  # user's input\n",
        "  resp = input(\"\\nPlease Respond:\")\n",
        "  if resp == \"1\":\n",
        "    # Prompt the user for the customer name and order\n",
        "    customer_name = input(\"===================================================\\n(TAKE CUSTOMER'S ORDER)\\n\\nYou are now taking an order!\\nPlease Enter Customer name: \")\n",
        "    order = input(\"Enter Customer order: \")\n",
        "    take_order(customer_name, order)\n",
        "  elif resp == \"2\":\n",
        "    show_queue()\n",
        "  elif resp == \"3\":\n",
        "    pop_queue()\n",
        "  elif resp == \"4\":\n",
        "    break\n",
        "  else:\n",
        "    print(\"===================================================\\n\\nInvalid Input\\nPlease Try Again :>\\n\")"
      ],
      "metadata": {
        "colab": {
          "base_uri": "https://localhost:8080/",
          "height": 1000
        },
        "id": "HUPE1-EbUcx2",
        "outputId": "0634235e-4e90-481a-c6c7-1b699af0e35d"
      },
      "execution_count": 65,
      "outputs": [
        {
          "output_type": "stream",
          "name": "stdout",
          "text": [
            "===================================================\n",
            " (MENU) What would you like to do?\n",
            "\n",
            "1. Take an order\n",
            "2. Show queue\n",
            "3. Serve queue\n",
            "4. Quit\n",
            "\n",
            "Please Respond:1\n",
            "===================================================\n",
            "(TAKE CUSTOMER'S ORDER)\n",
            "\n",
            "You are now taking an order!\n",
            "Please Enter Customer name: safjkolsaef\n",
            "Enter Customer order: saijkefgekf\n",
            "===================================================\n",
            "\n",
            "(QUEUE HAS BEEN UPDATED)\n",
            "Order added to queue: safjkolsaef - saijkefgekf\n",
            "\n",
            "===================================================\n",
            " (MENU) What would you like to do?\n",
            "\n",
            "1. Take an order\n",
            "2. Show queue\n",
            "3. Serve queue\n",
            "4. Quit\n",
            "\n",
            "Please Respond:2\n",
            "===================================================\n",
            "(DISPLAY QUEUE)\n",
            "\n",
            "Currently In Line: \n",
            "\n",
            "1. safjkolsaef - saijkefgekf\n",
            "===================================================\n",
            " (MENU) What would you like to do?\n",
            "\n",
            "1. Take an order\n",
            "2. Show queue\n",
            "3. Serve queue\n",
            "4. Quit\n"
          ]
        },
        {
          "output_type": "error",
          "ename": "KeyboardInterrupt",
          "evalue": "ignored",
          "traceback": [
            "\u001b[0;31m---------------------------------------------------------------------------\u001b[0m",
            "\u001b[0;31mKeyboardInterrupt\u001b[0m                         Traceback (most recent call last)",
            "\u001b[0;32m<ipython-input-65-2502397b6ed0>\u001b[0m in \u001b[0;36m<module>\u001b[0;34m\u001b[0m\n\u001b[1;32m     35\u001b[0m \u001b[0;34m\u001b[0m\u001b[0m\n\u001b[1;32m     36\u001b[0m   \u001b[0;31m# user's input\u001b[0m\u001b[0;34m\u001b[0m\u001b[0;34m\u001b[0m\u001b[0;34m\u001b[0m\u001b[0m\n\u001b[0;32m---> 37\u001b[0;31m   \u001b[0mresp\u001b[0m \u001b[0;34m=\u001b[0m \u001b[0minput\u001b[0m\u001b[0;34m(\u001b[0m\u001b[0;34m\"\\nPlease Respond:\"\u001b[0m\u001b[0;34m)\u001b[0m\u001b[0;34m\u001b[0m\u001b[0;34m\u001b[0m\u001b[0m\n\u001b[0m\u001b[1;32m     38\u001b[0m   \u001b[0;32mif\u001b[0m \u001b[0mresp\u001b[0m \u001b[0;34m==\u001b[0m \u001b[0;34m\"1\"\u001b[0m\u001b[0;34m:\u001b[0m\u001b[0;34m\u001b[0m\u001b[0;34m\u001b[0m\u001b[0m\n\u001b[1;32m     39\u001b[0m     \u001b[0;31m# Prompt the user for the customer name and order\u001b[0m\u001b[0;34m\u001b[0m\u001b[0;34m\u001b[0m\u001b[0;34m\u001b[0m\u001b[0m\n",
            "\u001b[0;32m/usr/local/lib/python3.8/dist-packages/ipykernel/kernelbase.py\u001b[0m in \u001b[0;36mraw_input\u001b[0;34m(self, prompt)\u001b[0m\n\u001b[1;32m    858\u001b[0m                 \u001b[0;34m\"raw_input was called, but this frontend does not support input requests.\"\u001b[0m\u001b[0;34m\u001b[0m\u001b[0;34m\u001b[0m\u001b[0m\n\u001b[1;32m    859\u001b[0m             )\n\u001b[0;32m--> 860\u001b[0;31m         return self._input_request(str(prompt),\n\u001b[0m\u001b[1;32m    861\u001b[0m             \u001b[0mself\u001b[0m\u001b[0;34m.\u001b[0m\u001b[0m_parent_ident\u001b[0m\u001b[0;34m,\u001b[0m\u001b[0;34m\u001b[0m\u001b[0;34m\u001b[0m\u001b[0m\n\u001b[1;32m    862\u001b[0m             \u001b[0mself\u001b[0m\u001b[0;34m.\u001b[0m\u001b[0m_parent_header\u001b[0m\u001b[0;34m,\u001b[0m\u001b[0;34m\u001b[0m\u001b[0;34m\u001b[0m\u001b[0m\n",
            "\u001b[0;32m/usr/local/lib/python3.8/dist-packages/ipykernel/kernelbase.py\u001b[0m in \u001b[0;36m_input_request\u001b[0;34m(self, prompt, ident, parent, password)\u001b[0m\n\u001b[1;32m    902\u001b[0m             \u001b[0;32mexcept\u001b[0m \u001b[0mKeyboardInterrupt\u001b[0m\u001b[0;34m:\u001b[0m\u001b[0;34m\u001b[0m\u001b[0;34m\u001b[0m\u001b[0m\n\u001b[1;32m    903\u001b[0m                 \u001b[0;31m# re-raise KeyboardInterrupt, to truncate traceback\u001b[0m\u001b[0;34m\u001b[0m\u001b[0;34m\u001b[0m\u001b[0;34m\u001b[0m\u001b[0m\n\u001b[0;32m--> 904\u001b[0;31m                 \u001b[0;32mraise\u001b[0m \u001b[0mKeyboardInterrupt\u001b[0m\u001b[0;34m(\u001b[0m\u001b[0;34m\"Interrupted by user\"\u001b[0m\u001b[0;34m)\u001b[0m \u001b[0;32mfrom\u001b[0m \u001b[0;32mNone\u001b[0m\u001b[0;34m\u001b[0m\u001b[0;34m\u001b[0m\u001b[0m\n\u001b[0m\u001b[1;32m    905\u001b[0m             \u001b[0;32mexcept\u001b[0m \u001b[0mException\u001b[0m \u001b[0;32mas\u001b[0m \u001b[0me\u001b[0m\u001b[0;34m:\u001b[0m\u001b[0;34m\u001b[0m\u001b[0;34m\u001b[0m\u001b[0m\n\u001b[1;32m    906\u001b[0m                 \u001b[0mself\u001b[0m\u001b[0;34m.\u001b[0m\u001b[0mlog\u001b[0m\u001b[0;34m.\u001b[0m\u001b[0mwarning\u001b[0m\u001b[0;34m(\u001b[0m\u001b[0;34m\"Invalid Message:\"\u001b[0m\u001b[0;34m,\u001b[0m \u001b[0mexc_info\u001b[0m\u001b[0;34m=\u001b[0m\u001b[0;32mTrue\u001b[0m\u001b[0;34m)\u001b[0m\u001b[0;34m\u001b[0m\u001b[0;34m\u001b[0m\u001b[0m\n",
            "\u001b[0;31mKeyboardInterrupt\u001b[0m: Interrupted by user"
          ]
        }
      ]
    }
  ]
}