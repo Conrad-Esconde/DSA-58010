{
  "nbformat": 4,
  "nbformat_minor": 0,
  "metadata": {
    "colab": {
      "provenance": [],
      "authorship_tag": "ABX9TyM5TGIw0TfuMOlO9IIdNA5J",
      "include_colab_link": true
    },
    "kernelspec": {
      "name": "python3",
      "display_name": "Python 3"
    },
    "language_info": {
      "name": "python"
    }
  },
  "cells": [
    {
      "cell_type": "markdown",
      "metadata": {
        "id": "view-in-github",
        "colab_type": "text"
      },
      "source": [
        "<a href=\"https://colab.research.google.com/github/Conrad-Esconde/DSA-58010/blob/main/PythonModuleArray.ipynb\" target=\"_parent\"><img src=\"https://colab.research.google.com/assets/colab-badge.svg\" alt=\"Open In Colab\"/></a>"
      ]
    },
    {
      "cell_type": "markdown",
      "source": [
        "Example 1"
      ],
      "metadata": {
        "id": "WeUjggMT5nec"
      }
    },
    {
      "cell_type": "code",
      "execution_count": 7,
      "metadata": {
        "colab": {
          "base_uri": "https://localhost:8080/"
        },
        "id": "iF9vbm-B4n4h",
        "outputId": "be776c2a-69ea-4e17-ce49-54a4c5120239"
      },
      "outputs": [
        {
          "output_type": "stream",
          "name": "stdout",
          "text": [
            "i\n",
            "f\n"
          ]
        }
      ],
      "source": [
        "import array\n",
        "array.typecodes #get all typecodes\n",
        "a=array.array('i',[1,2,3,4,5,6]) #initializing array 'a'\n",
        "b=array.array('f',[1.5,2.5,3.5,4.5,5.5,6.5]) #initializing array 'b'\n",
        "print(a.typecode) #getting the typecode of a\n",
        "print(b.typecode) #getting the typecode of b"
      ]
    },
    {
      "cell_type": "markdown",
      "source": [
        "Example 2\n",
        "\n",
        "Create/Convert the elemetns of array A to float/decimal number"
      ],
      "metadata": {
        "id": "g2Jnn_L_7ytL"
      }
    },
    {
      "cell_type": "code",
      "source": [
        "a = array.array('f',[1,2,3,4,5,6])\n",
        "print(a)"
      ],
      "metadata": {
        "colab": {
          "base_uri": "https://localhost:8080/"
        },
        "id": "oyhUv3fu700C",
        "outputId": "693455d3-17f7-4d69-83f5-7337b8de868c"
      },
      "execution_count": 13,
      "outputs": [
        {
          "output_type": "stream",
          "name": "stdout",
          "text": [
            "array('f', [1.0, 2.0, 3.0, 4.0, 5.0, 6.0])\n"
          ]
        }
      ]
    },
    {
      "cell_type": "markdown",
      "source": [
        "Example 3\n",
        "What is the output of these code?"
      ],
      "metadata": {
        "id": "VwivvPku-_5L"
      }
    },
    {
      "cell_type": "code",
      "source": [
        "from array import array       #importing array from array module\n",
        "a = array('i',[4,5,6,7])      #initializing array a\n",
        "b = array('i',[1,2,3])        #initializing elements of arrya b \n",
        "a.insert(1,2)                 #inserting element : 2 at index :1\n",
        "print(a)                      #printing array a\n",
        "a.insert(-1,0)                #insert element: 0 at index -1\n",
        "print(a)\n",
        "a.insert(10,-1)               #insert element : at index :10 but this is out of range\n",
        "print(a)                      #if index is exceeded th last element of array will append at the last element\n",
        "print(b)\n",
        "b[0]=5\n",
        "b[1]=4\n",
        "print(b)\n"
      ],
      "metadata": {
        "colab": {
          "base_uri": "https://localhost:8080/"
        },
        "id": "G5zMokK9_Cqi",
        "outputId": "a38be7dd-f2db-4b52-c0e6-8aa5f6287e2d"
      },
      "execution_count": 26,
      "outputs": [
        {
          "output_type": "stream",
          "name": "stdout",
          "text": [
            "array('i', [4, 2, 5, 6, 7])\n",
            "array('i', [4, 2, 5, 6, 0, 7])\n",
            "array('i', [4, 2, 5, 6, 0, 7, -1])\n",
            "array('i', [1, 2, 3])\n",
            "array('i', [5, 4, 3])\n"
          ]
        }
      ]
    },
    {
      "cell_type": "markdown",
      "source": [
        "Example 3"
      ],
      "metadata": {
        "id": "Yj3yEUflE11B"
      }
    },
    {
      "cell_type": "code",
      "source": [
        "#function that creates node object\n",
        "\n",
        "class Node:\n",
        "  def __init__(self,data):\n",
        "    self.data = data    # assign data\n",
        "    self.next = None    # initialize as null\n",
        "\n",
        "#function that creates Linked-list object\n",
        "\n",
        "class LinkedList:\n",
        "  def __init__(self):\n",
        "    self.head = None   #initialize head as null\n",
        "    self.tail = None\n",
        "\n",
        "  def __iter__(self):\n",
        "    node = linked_list.head\n",
        "    while node:\n",
        "      yield node           #return value to node\n",
        "      node = node.next\n",
        "\n",
        "  def add(self,node):    #define method\n",
        "    if self.head:\n",
        "      self.tail.next = node\n",
        "    else:\n",
        "      self.head = node\n",
        "\n",
        "    self.tail = node\n",
        "linked_list = LinkedList()\n",
        "linked_list.add(Node(1))\n",
        "linked_list.add(Node(2))\n",
        "linked_list.add(Node(3))\n",
        "linked_list.add(Node(4))\n",
        "linked_list.add(Node(5))\n",
        "\n",
        "print([node.data for node in linked_list])"
      ],
      "metadata": {
        "colab": {
          "base_uri": "https://localhost:8080/"
        },
        "id": "wl1OLD7SE3g3",
        "outputId": "1ac63a76-8a28-4d49-8120-afab75bbc964"
      },
      "execution_count": 72,
      "outputs": [
        {
          "output_type": "stream",
          "name": "stdout",
          "text": [
            "[1, 2, 3, 4, 5]\n"
          ]
        }
      ]
    }
  ]
}