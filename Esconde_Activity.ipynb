{
  "nbformat": 4,
  "nbformat_minor": 0,
  "metadata": {
    "colab": {
      "provenance": [],
      "authorship_tag": "ABX9TyPrzQEABR0SzM/rQ82gEpfh",
      "include_colab_link": true
    },
    "kernelspec": {
      "name": "python3",
      "display_name": "Python 3"
    },
    "language_info": {
      "name": "python"
    }
  },
  "cells": [
    {
      "cell_type": "markdown",
      "metadata": {
        "id": "view-in-github",
        "colab_type": "text"
      },
      "source": [
        "<a href=\"https://colab.research.google.com/github/Conrad-Esconde/DSA-58010/blob/main/Esconde_Activity.ipynb\" target=\"_parent\"><img src=\"https://colab.research.google.com/assets/colab-badge.svg\" alt=\"Open In Colab\"/></a>"
      ]
    },
    {
      "cell_type": "markdown",
      "source": [
        "Program No. 1"
      ],
      "metadata": {
        "id": "pfLYs-3fMKwf"
      }
    },
    {
      "cell_type": "code",
      "source": [
        "\n",
        "numb = [1,2,3,4,5,6,7,8,9,10] \n",
        "sumnum = 0\n",
        "for a in numb:\n",
        "  if a <= 10:\n",
        "     sumnum = sumnum + a\n",
        "\n",
        "print(\"the summation of all numbers in array is:\" ,sumnum)"
      ],
      "metadata": {
        "colab": {
          "base_uri": "https://localhost:8080/"
        },
        "id": "0iBCiM__MQBJ",
        "outputId": "e0afecad-f388-4eb9-eb04-b2326cfdbb5c"
      },
      "execution_count": 11,
      "outputs": [
        {
          "output_type": "stream",
          "name": "stdout",
          "text": [
            "the summation of all numbers in array is: 55\n"
          ]
        }
      ]
    },
    {
      "cell_type": "markdown",
      "source": [
        "Program No.2"
      ],
      "metadata": {
        "id": "beLcwLZbPf49"
      }
    },
    {
      "cell_type": "code",
      "source": [
        "numbersGiven = [1,2,3,4,5,6,7,8,9,10]\n",
        "numbersGiven.append(11132002)\n",
        "print(numbersGiven)"
      ],
      "metadata": {
        "colab": {
          "base_uri": "https://localhost:8080/"
        },
        "id": "rHjDUDqCPkyX",
        "outputId": "fe83ed04-3c07-4860-8645-685d8e4152b3"
      },
      "execution_count": 13,
      "outputs": [
        {
          "output_type": "stream",
          "name": "stdout",
          "text": [
            "[1, 2, 3, 4, 5, 6, 7, 8, 9, 10, 11132002]\n"
          ]
        }
      ]
    },
    {
      "cell_type": "markdown",
      "source": [
        "Program No. 3"
      ],
      "metadata": {
        "id": "iKRr-NDCVQ6y"
      }
    },
    {
      "cell_type": "code",
      "source": [
        "numbers = [1,2,3,4,5,6,7,8,9,10] \n",
        "numbers.insert(1,55) \n",
        "print(numbers)"
      ],
      "metadata": {
        "colab": {
          "base_uri": "https://localhost:8080/"
        },
        "id": "VxtW0bD7VTO8",
        "outputId": "e19885b0-a3fc-44fa-a375-60697f63cc55"
      },
      "execution_count": 14,
      "outputs": [
        {
          "output_type": "stream",
          "name": "stdout",
          "text": [
            "[1, 55, 2, 3, 4, 5, 6, 7, 8, 9, 10]\n"
          ]
        }
      ]
    },
    {
      "cell_type": "markdown",
      "source": [
        "Program No. 4"
      ],
      "metadata": {
        "id": "9UPA9WP3Wolq"
      }
    },
    {
      "cell_type": "code",
      "source": [
        "numbersGiven = [5,4,3,2,1]\n",
        "numbersGiven.reverse()\n",
        "print(numbersGiven)"
      ],
      "metadata": {
        "colab": {
          "base_uri": "https://localhost:8080/"
        },
        "id": "xOLJeF13WrpG",
        "outputId": "fc5615c9-a353-4c91-c746-cdc48a43f8b3"
      },
      "execution_count": 15,
      "outputs": [
        {
          "output_type": "stream",
          "name": "stdout",
          "text": [
            "[1, 2, 3, 4, 5]\n"
          ]
        }
      ]
    },
    {
      "cell_type": "markdown",
      "source": [
        "Program No.5"
      ],
      "metadata": {
        "id": "nO6fh9XzXLQZ"
      }
    },
    {
      "cell_type": "code",
      "source": [
        "numbersGiven = [5,4,3,2,1]\n",
        "lengthNum = len(numbersGiven)\n",
        "print(lengthNum)"
      ],
      "metadata": {
        "colab": {
          "base_uri": "https://localhost:8080/"
        },
        "id": "dO4wccqsXOCs",
        "outputId": "089dd684-ad82-428d-989a-fbf992a16184"
      },
      "execution_count": 17,
      "outputs": [
        {
          "output_type": "stream",
          "name": "stdout",
          "text": [
            "5\n"
          ]
        }
      ]
    }
  ]
}