{
  "nbformat": 4,
  "nbformat_minor": 0,
  "metadata": {
    "colab": {
      "provenance": [],
      "authorship_tag": "ABX9TyO1GJTCGV5inagdErv/SYZb",
      "include_colab_link": true
    },
    "kernelspec": {
      "name": "python3",
      "display_name": "Python 3"
    },
    "language_info": {
      "name": "python"
    }
  },
  "cells": [
    {
      "cell_type": "markdown",
      "metadata": {
        "id": "view-in-github",
        "colab_type": "text"
      },
      "source": [
        "<a href=\"https://colab.research.google.com/github/Conrad-Esconde/DSA-58010/blob/main/LongQuiz1.ipynb\" target=\"_parent\"><img src=\"https://colab.research.google.com/assets/colab-badge.svg\" alt=\"Open In Colab\"/></a>"
      ]
    },
    {
      "cell_type": "code",
      "source": [
        "MyName=[]\n",
        "NumOfLetter = int(input(\"Number of Letters: \"))\n",
        "for a in range(1,NumOfLetter +1):\n",
        "  y = (input(\"Enter letterl : \"))\n",
        "  MyName.append(y)\n",
        "print(\"This is My Name:\",MyName)\n",
        "MyName.reverse()\n",
        "print(\"This is My Name in Reverse\",MyName)"
      ],
      "metadata": {
        "colab": {
          "base_uri": "https://localhost:8080/"
        },
        "id": "BJ3PkYslP9Wk",
        "outputId": "8767c7ad-f665-4983-e9c2-f2c05dab7a49"
      },
      "execution_count": 8,
      "outputs": [
        {
          "output_type": "stream",
          "name": "stdout",
          "text": [
            "Number of Letters: 18\n",
            "Enter letterl : c\n",
            "Enter letterl : o\n",
            "Enter letterl : n\n",
            "Enter letterl : r\n",
            "Enter letterl : a\n",
            "Enter letterl : d\n",
            "Enter letterl : u\n",
            "Enter letterl : l\n",
            "Enter letterl : l\n",
            "Enter letterl : y\n",
            "Enter letterl : r.\n",
            "Enter letterl : e\n",
            "Enter letterl : s\n",
            "Enter letterl : c\n",
            "Enter letterl : o\n",
            "Enter letterl : n\n",
            "Enter letterl : d\n",
            "Enter letterl : e\n",
            "This is My Name: ['c', 'o', 'n', 'r', 'a', 'd', 'u', 'l', 'l', 'y', 'r.', 'e', 's', 'c', 'o', 'n', 'd', 'e']\n",
            "This is My Name in Reverse ['e', 'd', 'n', 'o', 'c', 's', 'e', 'r.', 'y', 'l', 'l', 'u', 'd', 'a', 'r', 'n', 'o', 'c']\n"
          ]
        }
      ]
    }
  ]
}