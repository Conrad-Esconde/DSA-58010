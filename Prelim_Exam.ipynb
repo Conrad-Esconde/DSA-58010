{
  "nbformat": 4,
  "nbformat_minor": 0,
  "metadata": {
    "colab": {
      "provenance": [],
      "authorship_tag": "ABX9TyO3nN/tiy0gYvOmd6sTefAj",
      "include_colab_link": true
    },
    "kernelspec": {
      "name": "python3",
      "display_name": "Python 3"
    },
    "language_info": {
      "name": "python"
    }
  },
  "cells": [
    {
      "cell_type": "markdown",
      "metadata": {
        "id": "view-in-github",
        "colab_type": "text"
      },
      "source": [
        "<a href=\"https://colab.research.google.com/github/Conrad-Esconde/DSA-58010/blob/main/Prelim_Exam.ipynb\" target=\"_parent\"><img src=\"https://colab.research.google.com/assets/colab-badge.svg\" alt=\"Open In Colab\"/></a>"
      ]
    },
    {
      "cell_type": "code",
      "execution_count": 27,
      "metadata": {
        "colab": {
          "base_uri": "https://localhost:8080/"
        },
        "id": "iyIgfunxR-3U",
        "outputId": "d3a0e366-9afe-455f-cbd2-8d47a8296214"
      },
      "outputs": [
        {
          "output_type": "stream",
          "name": "stdout",
          "text": [
            "The count of all the numbers inside the list are: 5\n"
          ]
        }
      ],
      "source": [
        "A = [1,2,3,4,5,6,7,8,9,10]\n",
        "CountEvn=0\n",
        "for even in A:\n",
        "  if even % 2 == 0:\n",
        "    CountEvn +=1\n",
        "print(\"The count of all the numbers inside the list are:\", CountEvn)"
      ]
    }
  ]
}