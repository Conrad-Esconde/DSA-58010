{
  "nbformat": 4,
  "nbformat_minor": 0,
  "metadata": {
    "colab": {
      "provenance": [],
      "collapsed_sections": [],
      "authorship_tag": "ABX9TyNp7gmgnDhqfELhXDmNWv1L",
      "include_colab_link": true
    },
    "kernelspec": {
      "name": "python3",
      "display_name": "Python 3"
    },
    "language_info": {
      "name": "python"
    }
  },
  "cells": [
    {
      "cell_type": "markdown",
      "metadata": {
        "id": "view-in-github",
        "colab_type": "text"
      },
      "source": [
        "<a href=\"https://colab.research.google.com/github/Conrad-Esconde/DSA-58010/blob/main/SEPT28_2022LEC.ipynb\" target=\"_parent\"><img src=\"https://colab.research.google.com/assets/colab-badge.svg\" alt=\"Open In Colab\"/></a>"
      ]
    },
    {
      "cell_type": "code",
      "execution_count": null,
      "metadata": {
        "colab": {
          "base_uri": "https://localhost:8080/",
          "height": 135
        },
        "id": "I7vfNr_yHUCk",
        "outputId": "bf72c1e3-9639-45ee-8835-475b636554fd"
      },
      "outputs": [
        {
          "output_type": "error",
          "ename": "IndentationError",
          "evalue": "ignored",
          "traceback": [
            "\u001b[0;36m  File \u001b[0;32m\"<ipython-input-7-abf25d7d30ec>\"\u001b[0;36m, line \u001b[0;32m14\u001b[0m\n\u001b[0;31m    def remove(self):\u001b[0m\n\u001b[0m    ^\u001b[0m\n\u001b[0;31mIndentationError\u001b[0m\u001b[0;31m:\u001b[0m unexpected indent\n"
          ]
        }
      ],
      "source": [
        "class Stack:\n",
        "  def __init__(self):\n",
        "      self.stack = []\n",
        "\n",
        "  def add(self, dataval):\n",
        "# Use list append method to add element\n",
        "      if dataval not in self.stack:\n",
        "         self.stack.append(dataval)\n",
        "         return True\n",
        "      else:\n",
        "         return False\n",
        "print(AStack.remove())\n",
        "# Use list pop method to remove element\n",
        "  def remove(self):\n",
        "      if len(self.stack) <= 0:\n",
        "         return (\"No element in the Stack\")\n",
        "      else:\n",
        "         return self.stack.pop()\n",
        "\n",
        "AStack = Stack()\n",
        "AStack.add(\"Mon\")\n",
        "AStack.add(\"Tue\")\n",
        "AStack.add(\"Wed\")\n",
        "AStack.add(\"Thu\")\n",
        "print(AStack.remove())\n",
        "print(AStack.remove())\n"
      ]
    },
    {
      "cell_type": "code",
      "source": [
        "class Stack:\n",
        "  def __init__(self):\n",
        "    self.stack = []\n",
        "\n",
        "  def add(self,dataval):\n",
        "    if dataval not in self.stack:\n",
        "      self.stack.append(dataval)\n",
        "      return True\n",
        "    else:\n",
        "      False\n",
        "  def remove(self):\n",
        "    if len(self.stack) <= 0:\n",
        "      return (\"No Element in Stack\")\n",
        "    else:\n",
        "      return self.stack.pop()\n",
        "\n",
        "AStack = Stack()\n",
        "AStack.add(\"Mon\")\n",
        "AStack.add(\"Tue\")\n",
        "AStack.add(\"Wed\")\n",
        "AStack.add(\"Thu\")\n",
        "print(AStack.remove())\n",
        "print(AStack.remove())"
      ],
      "metadata": {
        "colab": {
          "base_uri": "https://localhost:8080/"
        },
        "id": "Wvt2qg9jH2oB",
        "outputId": "26ccb660-2603-4f49-c61e-5dadb33ee2fc"
      },
      "execution_count": null,
      "outputs": [
        {
          "output_type": "stream",
          "name": "stdout",
          "text": [
            "Thu\n",
            "Wed\n"
          ]
        }
      ]
    },
    {
      "cell_type": "code",
      "source": [
        "#Python program to demo stack using Linked List\n",
        "\n",
        "class Node:\n",
        "  def __init__(self,data):\n",
        "    self.data = data\n",
        "    self.next = None   #initialize as null\n",
        "class LinkedList:\n",
        "  def __init__(self):\n",
        "    self.head = None  #initialize head as null\n",
        "  def printList(self):\n",
        "    temp = self.head\n",
        "    while(temp):\n",
        "      print(temp.data)\n",
        "      temp = temp.next\n",
        "  def is_empty(self):\n",
        "    if self.head == None:\n",
        "      return True\n",
        "    else: \n",
        "      return False\n",
        "  def remove(self):\n",
        "    if len(self.LinkedList()) <= 0:\n",
        "      return (\"No Element in Stack\")\n",
        "    else:\n",
        "      return self.llist.pop()\n",
        "\n",
        "llist = LinkedList()\n",
        "llist.head = Node('Mon')\n",
        "second = Node(\"Tue\")\n",
        "third = Node('Wed')\n",
        "fourth = Node(\"Thu\")\n",
        "\n",
        "llist.head.next = second\n",
        "second.next = third\n",
        "third.next = fourth\n",
        "\n",
        "llist.printList\n",
        "llist.remove\n",
        "\n",
        "#DIKO PO NAGAWA MAAM"
      ],
      "metadata": {
        "colab": {
          "base_uri": "https://localhost:8080/"
        },
        "id": "SbEjnCd-RhZw",
        "outputId": "a90bc007-d58d-4b74-9bc3-366884a2af2f"
      },
      "execution_count": null,
      "outputs": [
        {
          "output_type": "execute_result",
          "data": {
            "text/plain": [
              "<bound method LinkedList.remove of <__main__.LinkedList object at 0x7f3078f9aa90>>"
            ]
          },
          "metadata": {},
          "execution_count": 37
        }
      ]
    }
  ]
}