{
  "nbformat": 4,
  "nbformat_minor": 0,
  "metadata": {
    "colab": {
      "name": "PRACTICAL_LAB_EXAM.ipynb",
      "provenance": [],
      "authorship_tag": "ABX9TyOWqmeCCPVFnqF5FPiZvHgx",
      "include_colab_link": true
    },
    "kernelspec": {
      "name": "python3",
      "display_name": "Python 3"
    },
    "language_info": {
      "name": "python"
    }
  },
  "cells": [
    {
      "cell_type": "markdown",
      "metadata": {
        "id": "view-in-github",
        "colab_type": "text"
      },
      "source": [
        "<a href=\"https://colab.research.google.com/github/Conrad-Esconde/DSA-58010/blob/main/PRACTICAL_LAB_EXAM-AUGUST26_2022.ipynb\" target=\"_parent\"><img src=\"https://colab.research.google.com/assets/colab-badge.svg\" alt=\"Open In Colab\"/></a>"
      ]
    },
    {
      "cell_type": "code",
      "execution_count": 17,
      "metadata": {
        "colab": {
          "base_uri": "https://localhost:8080/"
        },
        "id": "Xv83bclLhABZ",
        "outputId": "40e1cacf-2660-4cfb-df2d-111cc4c6caf7"
      },
      "outputs": [
        {
          "output_type": "stream",
          "name": "stdout",
          "text": [
            "Number of Entries: 6\n",
            "Enter Score : 26\n",
            "Enter Score : 49\n",
            "Enter Score : 98\n",
            "Enter Score : 87\n",
            "Enter Score : 62\n",
            "Enter Score : 75\n",
            "Total even numbers:  186\n"
          ]
        }
      ],
      "source": [
        "numb=[]\n",
        "sum=0\n",
        "number = int(input(\"Number of Entries: \"))\n",
        "for a in range(1,number +1):\n",
        "  y = int(input(\"Enter Score : \"))\n",
        "  numb.append (y)\n",
        "\n",
        "for b in range(number):\n",
        "  if (numb[b]%2==0):\n",
        "    sum = sum + numb [b]\n",
        "\n",
        "print(\"Total even numbers: \", sum)"
      ]
    },
    {
      "cell_type": "markdown",
      "source": [
        "# **Algorithm**\n",
        "\n",
        "* STEP 1 - START\n",
        "* STEP 2 - Create List\n",
        "* STEP 3 - Define sum\n",
        "* STEP 4 - Input \"Number of Entries\"\n",
        "* STEP 5 - Create for loop 'a'\n",
        "* STEP 6 - Define and input Scores to 'y'\n",
        "* STEP 7 - Append Score Values to List\n",
        "* STEP 8 - Create for loop 'b'\n",
        "* STEP 9 - If statement \"(numb[b]%2 == 0)\" to check if values are even or odd\n",
        "* STEP 10 - Summation of all even numbers\n",
        "* STEP 11 - Print total even numbers\n",
        "* STEP 12 - STOP/TERMINATE "
      ],
      "metadata": {
        "id": "5sbv9vs-nml4"
      }
    }
  ]
}