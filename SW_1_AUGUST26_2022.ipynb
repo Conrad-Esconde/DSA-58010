{
  "nbformat": 4,
  "nbformat_minor": 0,
  "metadata": {
    "colab": {
      "name": "SW#1 AUGUST26_2022.ipynb",
      "provenance": [],
      "authorship_tag": "ABX9TyNsE5ngxM0TeRcvFNKL8Vef",
      "include_colab_link": true
    },
    "kernelspec": {
      "name": "python3",
      "display_name": "Python 3"
    },
    "language_info": {
      "name": "python"
    }
  },
  "cells": [
    {
      "cell_type": "markdown",
      "metadata": {
        "id": "view-in-github",
        "colab_type": "text"
      },
      "source": [
        "<a href=\"https://colab.research.google.com/github/Conrad-Esconde/DSA-58010/blob/main/SW_1_AUGUST26_2022.ipynb\" target=\"_parent\"><img src=\"https://colab.research.google.com/assets/colab-badge.svg\" alt=\"Open In Colab\"/></a>"
      ]
    },
    {
      "cell_type": "code",
      "execution_count": 23,
      "metadata": {
        "colab": {
          "base_uri": "https://localhost:8080/"
        },
        "id": "R2rUhdcTTWVJ",
        "outputId": "8f0c5f88-6e36-406c-a22f-027238401e13"
      },
      "outputs": [
        {
          "output_type": "stream",
          "name": "stdout",
          "text": [
            "is your given a radius? (y/n) :n\n",
            "Enter the diameter of a circle: 4\n",
            "Area of a circle:  12.5664\n"
          ]
        }
      ],
      "source": [
        "char = input(\"is your given a radius? (y/n) :\")\n",
        "x = char\n",
        "if x =='y':\n",
        "  R = float(input(\"Enter the radius of a circle: \"))\n",
        "  PI=3.1426\n",
        "  area = PI *R *R\n",
        "  print(\"Area of a circle: \", area)\n",
        "else :\n",
        "  D = float(input(\"Enter the diameter of a circle: \"))\n",
        "  PI=3.1416\n",
        "  AREA = ((PI *D *D)/4)\n",
        "  print(\"Area of a circle: \", AREA)"
      ]
    }
  ]
}