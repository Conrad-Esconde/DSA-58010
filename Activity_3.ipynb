{
  "nbformat": 4,
  "nbformat_minor": 0,
  "metadata": {
    "colab": {
      "provenance": [],
      "authorship_tag": "ABX9TyO78Vj6xP4Y4PP/7pgWnxrb",
      "include_colab_link": true
    },
    "kernelspec": {
      "name": "python3",
      "display_name": "Python 3"
    },
    "language_info": {
      "name": "python"
    }
  },
  "cells": [
    {
      "cell_type": "markdown",
      "metadata": {
        "id": "view-in-github",
        "colab_type": "text"
      },
      "source": [
        "<a href=\"https://colab.research.google.com/github/Conrad-Esconde/DSA-58010/blob/main/Activity_3.ipynb\" target=\"_parent\"><img src=\"https://colab.research.google.com/assets/colab-badge.svg\" alt=\"Open In Colab\"/></a>"
      ]
    },
    {
      "cell_type": "markdown",
      "source": [
        "**Upon typing the codes, what is the name of the abstract data type? How is it implemented?**\n",
        "\n",
        "*Answer: Stack is the abstract data type used. It was utilize with the according method such as in this case, method push and pop.*\n",
        "\n",
        "**What is the output of the codes?**\n",
        "\n",
        "*Answer: It outputs a series of Pushed Elements and specific elements from the list.*\n",
        "\n",
        "**If you want to type additional codes, what will be the statement to pop 3 elements from the top of the stack?**\n",
        "\n",
        "*Answer: \"stack.pop()\" will be used to pop/remove an element from the list, since a pop method is defined*  \n",
        "\n",
        "**If you will revise the codes, what will be the statement to determine the length of the stack? (Note: You may add additional methods to count the no. of elements in the stack)**\n",
        "\n",
        "*Answer: By defining a method to get the length, we can simply use the syntax len()\" to get the lenght of the stack* \n"
      ],
      "metadata": {
        "id": "TVnOAWG2ec_9"
      }
    },
    {
      "cell_type": "code",
      "execution_count": 8,
      "metadata": {
        "colab": {
          "base_uri": "https://localhost:8080/"
        },
        "id": "qsOAihnCbltq",
        "outputId": "bc27a40a-2afe-45be-e687-3497802e0d76"
      },
      "outputs": [
        {
          "output_type": "stream",
          "name": "stdout",
          "text": [
            "Pushed Element: 1\n",
            "Pushed Element: 2\n",
            "Pushed Element: 3\n",
            "Pushed Element: 4\n",
            "Pushed Element: 5\n",
            "The elements in the stack are:['4', '5']\n",
            "Length of stack is: 2\n"
          ]
        }
      ],
      "source": [
        "# Stack implementation in python\n",
        "# Creating a stack\n",
        "\n",
        "def create_stack():\n",
        "    stack = []\n",
        "    return stack\n",
        "\n",
        "# Creating an empty stack\n",
        "def is_empty(stack):\n",
        "    return len(stack) == 0\n",
        "\n",
        "# Adding items into the stack\n",
        "def push(stack, item):\n",
        "    stack.append(item)\n",
        "    print(\"Pushed Element: \" + item)\n",
        "\n",
        "# Removing an element from the stack\n",
        "def pop(stack):\n",
        "    if (is_empty(stack)):\n",
        "        return \"The stack is empty\"\n",
        "    return stack.pop()\n",
        "\n",
        "# Getting length\n",
        "def length():\n",
        "  return len(stack)\n",
        "\n",
        "stack = create_stack()\n",
        "push(stack, str(1))\n",
        "stack.pop()\n",
        "push(stack, str(2))\n",
        "stack.pop()\n",
        "push(stack, str(3))\n",
        "stack.pop()\n",
        "push(stack, str(4))\n",
        "push(stack, str(5))\n",
        "\n",
        "print(\"The elements in the stack are:\"+ str(stack))\n",
        "print(\"Length of stack is:\", length())\n"
      ]
    }
  ]
}