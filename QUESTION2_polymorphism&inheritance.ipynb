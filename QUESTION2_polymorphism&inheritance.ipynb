{
  "nbformat": 4,
  "nbformat_minor": 0,
  "metadata": {
    "colab": {
      "name": "Untitled2.ipynb",
      "provenance": [],
      "collapsed_sections": [],
      "authorship_tag": "ABX9TyOdWLTYurDpXu9gBjCl3KPO",
      "include_colab_link": true
    },
    "kernelspec": {
      "name": "python3",
      "display_name": "Python 3"
    },
    "language_info": {
      "name": "python"
    }
  },
  "cells": [
    {
      "cell_type": "markdown",
      "metadata": {
        "id": "view-in-github",
        "colab_type": "text"
      },
      "source": [
        "<a href=\"https://colab.research.google.com/github/Conrad-Esconde/DSA-58010/blob/main/QUESTION2_polymorphism%26inheritance.ipynb\" target=\"_parent\"><img src=\"https://colab.research.google.com/assets/colab-badge.svg\" alt=\"Open In Colab\"/></a>"
      ]
    },
    {
      "cell_type": "code",
      "source": [
        "class Shape:                                                    #Parent Class (Inheritance)\n",
        "  def Area(self):\n",
        "    pass\n",
        "  def Perimeter(self):\n",
        "    passs\n",
        "class Rectangle:\n",
        "  def __init__(self,side1,side2):\n",
        "    self.side1 = side1\n",
        "    self.side2 = side2\n",
        "  def Area(self):\n",
        "    print(self.side1*self.side2)\n",
        "  def Perimeter(self):\n",
        "    print(2*(self.side1+self.side2))\n",
        "\n",
        "class Square(Shape):                                            #Derived Class from ParentClass (Inheritance)\n",
        "  def __init__(self,side):                                      \n",
        "    self.side = side \n",
        "  def Area(self):                                               #Methods of a Child class \n",
        "    print(self.side**2)                                          \n",
        "  def Perimeter(self):                                          #Methods of a Child class\n",
        "    print(self.side*4)\n",
        "square = Square(4)\n",
        "square.Area()\n",
        "\n",
        "rect = Rectangle(7,3)\n",
        "rect.Area()\n",
        "\n",
        "square.Perimeter()\n",
        "rect.Perimeter()"
      ],
      "metadata": {
        "colab": {
          "base_uri": "https://localhost:8080/"
        },
        "id": "0Gyhnpi2L3Bk",
        "outputId": "c2416bb9-4688-4706-bb84-e737decc302a"
      },
      "execution_count": 3,
      "outputs": [
        {
          "output_type": "stream",
          "name": "stdout",
          "text": [
            "16\n",
            "21\n",
            "16\n",
            "20\n"
          ]
        }
      ]
    },
    {
      "cell_type": "markdown",
      "source": [
        "**Explain how Polymorphism and Inheritance are being applied in the program.**\n",
        "\n",
        "\n",
        "***Inheritance*** is used as shown in the program - class Square (Child Class)\n",
        " inherited or is derived from an existing class which is Shape(Parent Class)\n",
        "\n",
        "***Polymorphism*** is used as shown in the program - we defined methods to a child class with the same name of its parent. "
      ],
      "metadata": {
        "id": "ImaV56XMMMP5"
      }
    }
  ]
}